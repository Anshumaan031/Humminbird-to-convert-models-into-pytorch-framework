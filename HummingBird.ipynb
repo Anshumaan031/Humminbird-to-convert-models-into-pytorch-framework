{
  "nbformat": 4,
  "nbformat_minor": 0,
  "metadata": {
    "colab": {
      "name": "Untitled16.ipynb",
      "provenance": []
    },
    "kernelspec": {
      "name": "python3",
      "display_name": "Python 3"
    },
    "language_info": {
      "name": "python"
    },
    "accelerator": "GPU"
  },
  "cells": [
    {
      "cell_type": "code",
      "metadata": {
        "colab": {
          "base_uri": "https://localhost:8080/"
        },
        "id": "j_5dFV6zLKfm",
        "outputId": "b70244ff-68f0-4349-b886-1a8d0406f959"
      },
      "source": [
        "pip install hummingbird-ml"
      ],
      "execution_count": 5,
      "outputs": [
        {
          "output_type": "stream",
          "name": "stdout",
          "text": [
            "Collecting hummingbird-ml\n",
            "  Downloading hummingbird_ml-0.4.1-py2.py3-none-any.whl (180 kB)\n",
            "\u001b[?25l\r\u001b[K     |█▉                              | 10 kB 27.7 MB/s eta 0:00:01\r\u001b[K     |███▋                            | 20 kB 22.4 MB/s eta 0:00:01\r\u001b[K     |█████▍                          | 30 kB 10.7 MB/s eta 0:00:01\r\u001b[K     |███████▎                        | 40 kB 8.7 MB/s eta 0:00:01\r\u001b[K     |█████████                       | 51 kB 5.1 MB/s eta 0:00:01\r\u001b[K     |██████████▉                     | 61 kB 5.5 MB/s eta 0:00:01\r\u001b[K     |████████████▊                   | 71 kB 5.9 MB/s eta 0:00:01\r\u001b[K     |██████████████▌                 | 81 kB 6.6 MB/s eta 0:00:01\r\u001b[K     |████████████████▎               | 92 kB 6.3 MB/s eta 0:00:01\r\u001b[K     |██████████████████▏             | 102 kB 5.3 MB/s eta 0:00:01\r\u001b[K     |████████████████████            | 112 kB 5.3 MB/s eta 0:00:01\r\u001b[K     |█████████████████████▊          | 122 kB 5.3 MB/s eta 0:00:01\r\u001b[K     |███████████████████████▋        | 133 kB 5.3 MB/s eta 0:00:01\r\u001b[K     |█████████████████████████▍      | 143 kB 5.3 MB/s eta 0:00:01\r\u001b[K     |███████████████████████████▏    | 153 kB 5.3 MB/s eta 0:00:01\r\u001b[K     |█████████████████████████████   | 163 kB 5.3 MB/s eta 0:00:01\r\u001b[K     |██████████████████████████████▉ | 174 kB 5.3 MB/s eta 0:00:01\r\u001b[K     |████████████████████████████████| 180 kB 5.3 MB/s \n",
            "\u001b[?25hRequirement already satisfied: dill in /usr/local/lib/python3.7/dist-packages (from hummingbird-ml) (0.3.4)\n",
            "Collecting onnxconverter-common>=1.6.0\n",
            "  Downloading onnxconverter_common-1.8.1-py2.py3-none-any.whl (77 kB)\n",
            "\u001b[K     |████████████████████████████████| 77 kB 6.3 MB/s \n",
            "\u001b[?25hRequirement already satisfied: torch>=1.4 in /usr/local/lib/python3.7/dist-packages (from hummingbird-ml) (1.10.0+cu111)\n",
            "Requirement already satisfied: scikit-learn>=0.21.3 in /usr/local/lib/python3.7/dist-packages (from hummingbird-ml) (1.0.1)\n",
            "Requirement already satisfied: scipy in /usr/local/lib/python3.7/dist-packages (from hummingbird-ml) (1.4.1)\n",
            "Requirement already satisfied: psutil in /usr/local/lib/python3.7/dist-packages (from hummingbird-ml) (5.4.8)\n",
            "Requirement already satisfied: numpy>=1.15 in /usr/local/lib/python3.7/dist-packages (from hummingbird-ml) (1.19.5)\n",
            "Requirement already satisfied: protobuf in /usr/local/lib/python3.7/dist-packages (from onnxconverter-common>=1.6.0->hummingbird-ml) (3.17.3)\n",
            "Collecting onnx\n",
            "  Downloading onnx-1.10.2-cp37-cp37m-manylinux_2_12_x86_64.manylinux2010_x86_64.whl (12.7 MB)\n",
            "\u001b[K     |████████████████████████████████| 12.7 MB 88 kB/s \n",
            "\u001b[?25hRequirement already satisfied: joblib>=0.11 in /usr/local/lib/python3.7/dist-packages (from scikit-learn>=0.21.3->hummingbird-ml) (1.1.0)\n",
            "Requirement already satisfied: threadpoolctl>=2.0.0 in /usr/local/lib/python3.7/dist-packages (from scikit-learn>=0.21.3->hummingbird-ml) (3.0.0)\n",
            "Requirement already satisfied: typing-extensions in /usr/local/lib/python3.7/dist-packages (from torch>=1.4->hummingbird-ml) (3.10.0.2)\n",
            "Requirement already satisfied: six in /usr/local/lib/python3.7/dist-packages (from onnx->onnxconverter-common>=1.6.0->hummingbird-ml) (1.15.0)\n",
            "Installing collected packages: onnx, onnxconverter-common, hummingbird-ml\n",
            "Successfully installed hummingbird-ml-0.4.1 onnx-1.10.2 onnxconverter-common-1.8.1\n"
          ]
        }
      ]
    },
    {
      "cell_type": "code",
      "metadata": {
        "id": "ANGfM1fBLNBU"
      },
      "source": [
        "from sklearn import datasets\n",
        "from sklearn.ensemble import RandomForestClassifier"
      ],
      "execution_count": 1,
      "outputs": []
    },
    {
      "cell_type": "code",
      "metadata": {
        "id": "AXNcPoFpLXkk"
      },
      "source": [
        "iris = datasets.load_iris()\n",
        "X, y = iris.data, iris.target"
      ],
      "execution_count": 2,
      "outputs": []
    },
    {
      "cell_type": "code",
      "metadata": {
        "id": "KAnmagU4LbvT"
      },
      "source": [
        "rf_model = RandomForestClassifier().fit(X, y)"
      ],
      "execution_count": 3,
      "outputs": []
    },
    {
      "cell_type": "code",
      "metadata": {
        "id": "axOaRinYMZfR",
        "outputId": "30b3258b-2a7e-4113-8f30-f1c723d5fbb1",
        "colab": {
          "base_uri": "https://localhost:8080/"
        }
      },
      "source": [
        "%%timeit -r 3\n",
        "rf_model.predict(X)"
      ],
      "execution_count": 11,
      "outputs": [
        {
          "output_type": "stream",
          "name": "stdout",
          "text": [
            "100 loops, best of 3: 17.8 ms per loop\n"
          ]
        }
      ]
    },
    {
      "cell_type": "code",
      "metadata": {
        "id": "Lbbnjm65Lcyr",
        "outputId": "5a1a72c8-5f34-408e-d536-ff53e362ec7f",
        "colab": {
          "base_uri": "https://localhost:8080/"
        }
      },
      "source": [
        "from hummingbird.ml import convert"
      ],
      "execution_count": 6,
      "outputs": [
        {
          "output_type": "stream",
          "name": "stderr",
          "text": [
            "/usr/local/lib/python3.7/dist-packages/sklearn/experimental/enable_hist_gradient_boosting.py:17: UserWarning: Since version 1.0, it is not needed to import enable_hist_gradient_boosting anymore. HistGradientBoostingClassifier and HistGradientBoostingRegressor are now stable and can be normally imported from sklearn.ensemble.\n",
            "  \"Since version 1.0, \"\n"
          ]
        }
      ]
    },
    {
      "cell_type": "code",
      "metadata": {
        "id": "6vlpcylGLizD",
        "outputId": "bd40c6cf-0c8c-4c5b-c7f5-4b21aa1314c7",
        "colab": {
          "base_uri": "https://localhost:8080/"
        }
      },
      "source": [
        "# First we convert the model to pytroch\n",
        "model = convert(rf_model, 'pytorch')"
      ],
      "execution_count": 7,
      "outputs": [
        {
          "output_type": "stream",
          "name": "stderr",
          "text": [
            "/usr/local/lib/python3.7/dist-packages/sklearn/utils/deprecation.py:103: FutureWarning: Attribute `n_features_` was deprecated in version 1.0 and will be removed in 1.2. Use `n_features_in_` instead.\n",
            "  warnings.warn(msg, category=FutureWarning)\n"
          ]
        }
      ]
    },
    {
      "cell_type": "code",
      "metadata": {
        "id": "1PVrytR5L2Wb",
        "outputId": "fd795697-5435-4262-c938-9f3f5e76232b",
        "colab": {
          "base_uri": "https://localhost:8080/"
        }
      },
      "source": [
        "# To run predictions on GPU we have to move it to cuda\n",
        "model.to('cuda')\n",
        "model.predict(X)"
      ],
      "execution_count": 8,
      "outputs": [
        {
          "output_type": "execute_result",
          "data": {
            "text/plain": [
              "array([0, 0, 0, 0, 0, 0, 0, 0, 0, 0, 0, 0, 0, 0, 0, 0, 0, 0, 0, 0, 0, 0,\n",
              "       0, 0, 0, 0, 0, 0, 0, 0, 0, 0, 0, 0, 0, 0, 0, 0, 0, 0, 0, 0, 0, 0,\n",
              "       0, 0, 0, 0, 0, 0, 1, 1, 1, 1, 1, 1, 1, 1, 1, 1, 1, 1, 1, 1, 1, 1,\n",
              "       1, 1, 1, 1, 1, 1, 1, 1, 1, 1, 1, 1, 1, 1, 1, 1, 1, 1, 1, 1, 1, 1,\n",
              "       1, 1, 1, 1, 1, 1, 1, 1, 1, 1, 1, 1, 2, 2, 2, 2, 2, 2, 2, 2, 2, 2,\n",
              "       2, 2, 2, 2, 2, 2, 2, 2, 2, 2, 2, 2, 2, 2, 2, 2, 2, 2, 2, 2, 2, 2,\n",
              "       2, 2, 2, 2, 2, 2, 2, 2, 2, 2, 2, 2, 2, 2, 2, 2, 2, 2])"
            ]
          },
          "metadata": {},
          "execution_count": 8
        }
      ]
    },
    {
      "cell_type": "code",
      "metadata": {
        "id": "qTKEpzUlL4UL",
        "outputId": "3694f443-f8ad-46ca-8616-f1882df05d8d",
        "colab": {
          "base_uri": "https://localhost:8080/"
        }
      },
      "source": [
        "%%timeit -r 3\n",
        "model.predict(X)"
      ],
      "execution_count": 10,
      "outputs": [
        {
          "output_type": "stream",
          "name": "stdout",
          "text": [
            "The slowest run took 4.26 times longer than the fastest. This could mean that an intermediate result is being cached.\n",
            "1000 loops, best of 3: 1.82 ms per loop\n"
          ]
        }
      ]
    },
    {
      "cell_type": "code",
      "metadata": {
        "id": "e-bRkdsYML7r"
      },
      "source": [
        ""
      ],
      "execution_count": null,
      "outputs": []
    }
  ]
}